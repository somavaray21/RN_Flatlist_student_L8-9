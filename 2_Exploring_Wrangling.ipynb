{
  "cells": [
    {
      "cell_type": "markdown",
      "metadata": {
        "id": "xge8S6t8LoaB"
      },
      "source": [
        "# Exploring Data: An Introduction to Pandas and DataFrames\n",
        "\n",
        "Pandas is a powerful Python library that is essential for data science and analysis. It provides high-performance, easy-to-use data structures, the most important of which is the DataFrame. You can think of a DataFrame as a smart, programmable spreadsheet, like Excel or Google Sheets, but with the full power of Python behind it.\n",
        "\n",
        "Here we'll look into the structure of a dataframe and walk through the most critical first steps to take immediately after loading a dataset into a pandas as a dataframe. Think of this as the initial \"health check\" for your data, a fundamental skill for any data analyst or scientist.\n",
        "\n",
        "Why is this so important? Before you can perform any meaningful analysis, build a model, or create a visualization, you must first understand the data you're working with.  Mastering these first few commands builds a solid foundation for all your future data work and prevents common errors down the line."
      ]
    },
    {
      "cell_type": "markdown",
      "metadata": {
        "id": "c_uyMTawLoaS"
      },
      "source": [
        "## Data Structures (cont.)\n",
        "\n",
        "We have already seen a couple examples of **structured data**: lists and dictionaries."
      ]
    },
    {
      "cell_type": "markdown",
      "metadata": {
        "id": "toc4m_n0LoaV"
      },
      "source": [
        "### Lists\n",
        "\n",
        "Lists are **ordered**, meaning the items are labeled using an **index**."
      ]
    },
    {
      "cell_type": "code",
      "execution_count": 3,
      "metadata": {
        "id": "GsgzutHvLoaY",
        "outputId": "b37fcbb1-f6e0-4860-a7bf-6302a5bbdae4",
        "colab": {
          "base_uri": "https://localhost:8080/",
          "height": 36
        }
      },
      "outputs": [
        {
          "output_type": "execute_result",
          "data": {
            "text/plain": [
              "'juice'"
            ],
            "application/vnd.google.colaboratory.intrinsic+json": {
              "type": "string"
            }
          },
          "metadata": {},
          "execution_count": 3
        }
      ],
      "source": [
        "grocery_list = [\"eggs\", \"milk\", \"juice\"]\n",
        "\n",
        "# Print \"milk\"\n",
        "# YOUR CODE HERE\n",
        "\n",
        "grocery_list[2]"
      ]
    },
    {
      "cell_type": "markdown",
      "metadata": {
        "id": "wHPq7brxLoal"
      },
      "source": [
        "### Arrays\n",
        "\n",
        "Arrays are a special type of list that contains only one data type. This homogeneity allows for more efficient memory usage and faster numerical computations, making them a favorite in scientific computing. Arrays are typically more rigid than lists."
      ]
    },
    {
      "cell_type": "code",
      "execution_count": null,
      "metadata": {
        "id": "lNJ2KiCNLoao"
      },
      "outputs": [],
      "source": [
        "# Which list is an array?\n",
        "planet_list = ['mercury', 'venus', 'earth', 'mars', 'jupiter']\n",
        "age_list = [3, 8, 12.0, 38, 40]\n",
        "number_list = [4, 'five', 'ten', 32]\n"
      ]
    },
    {
      "cell_type": "markdown",
      "metadata": {
        "id": "hkIec-GsLoar"
      },
      "source": [
        "The key takeaway for both lists and arrays is their integer-based indexing. You retrieve an element by its numerical position, starting from zero."
      ]
    },
    {
      "cell_type": "markdown",
      "metadata": {
        "id": "f4Ih1CULLoat"
      },
      "source": [
        "## The Tabular Powerhouse: DataFrames\n",
        "Enter the dataframe, a structure that brings together the concepts of lists, arrays, and dictionaries to create a powerful tool for data analysis. A dataframe is a two-dimensional data structure with labeled rows and columns. Imagine a spreadsheet, and you have a good mental model of a dataframe."
      ]
    },
    {
      "cell_type": "markdown",
      "metadata": {
        "tags": [],
        "id": "qbofgwBSLoaw"
      },
      "source": [
        "## Importing the Pandas Library\n",
        "\n",
        "In order to have access to the functions in a library, we have to \"import\" it. This is done with a simple line of code. A common practice it to:\n",
        "\n",
        "`import <library_name> as <abbreviated_name>`.\n",
        "\n",
        "This allows us to define an abbreviation for the library to use whenever we call a function from it instead of typing out the full name of the library every time. The abbreviation is up to you, but most libraries have an agreed upon abbreviation. For examples, most people abbreviate pandas as `pd`:"
      ]
    },
    {
      "cell_type": "code",
      "execution_count": 4,
      "metadata": {
        "id": "M9-22x38Loax"
      },
      "outputs": [],
      "source": [
        "# YOUR CODE HERE\n",
        "import pandas as pd"
      ]
    },
    {
      "cell_type": "markdown",
      "metadata": {
        "id": "gRiDazrSLoaz"
      },
      "source": [
        "A Pandas dataframe should look familiar. It is how data is structured in spreadsheets like Excel and Google Sheets. The bold numbers on the left are known as the **index** and allow us to number rows. The column names allow us to label and reference individual arrays in the dataframe."
      ]
    },
    {
      "cell_type": "markdown",
      "metadata": {
        "tags": [],
        "id": "fNOzCFsvLoa0"
      },
      "source": [
        "## Reading in Data to a DataFrame a from a .csv File\n",
        "\n",
        "It is possible to create a dataframe from scratch, but we usualliy will bring in data from an existing file, also known as a **dataset**. The most common file format for raw data is a `.csv` file, short for \"comma separated values\" and it is very easy to bring into as a dataframe using the `pd.read_csv()` function.\n",
        "\n",
        "When you use `pd.read_csv('filename.csv')`, you're telling pandas to find a file and load it into a DataFrame. The string you provide inside the parentheses is the **file path**. It's the set of directions from your current location to the file you want.\n",
        "\n",
        "See the \"Supplementary Information\" section for more on file paths.\n",
        "\n",
        "Now we will look at an authentic dataset of historical global temperatures, courtesy of [Berkeley Earth](https://berkeleyearth.org/about/), which is affiliated with [Lawrence Berkeley National Laboratory](https://www.lbl.gov/).\n",
        "\n",
        "The file is located at: https://raw.githubusercontent.com/jdomyancich/big-data-camp/refs/heads/main/data/global_temps.csv"
      ]
    },
    {
      "cell_type": "code",
      "execution_count": 5,
      "metadata": {
        "id": "fdXT_iolLoa1"
      },
      "outputs": [],
      "source": [
        "# YOUR CODE HERE\n",
        "global_temps = pd.read_csv(\"https://raw.githubusercontent.com/jdomyancich/big-data-camp/refs/heads/main/data/global_temps.csv\")"
      ]
    },
    {
      "cell_type": "markdown",
      "metadata": {
        "id": "xW3G3iFqLoa3"
      },
      "source": [
        "### Getting a First Look\n",
        "\n",
        "Once you've loaded your dataset into a pandas DataFrame using `pd.read_csv()`, the crucial next step is to get a feel for your data. This initial inspection helps you understand its structure, identify potential issues like missing values, and get a sense of the data's content.\n",
        "\n",
        "Here are the essential dataframe methods and attributes you should use right away. Remember, a dataframe is an **object**, meaning it has certain **methods** associated with it. In pandas (and Python in general), an **attribute** is a piece of data or a characteristic stored on an object, which you access directly by name. Think of it as a property of the object."
      ]
    },
    {
      "cell_type": "markdown",
      "metadata": {
        "id": "BiKqpGblLoa3"
      },
      "source": [
        "#### `.head()` - View the first few rows\n",
        "This is the most common first step. It shows you the first 5 rows of your DataFrame by default, giving you an immediate look at your columns and the type of data they contain.\n",
        "\n",
        "**Why it's useful**: It's a quick way to confirm your data loaded correctly and to see the column names and data examples without printing the entire (potentially massive) dataset."
      ]
    },
    {
      "cell_type": "code",
      "execution_count": 7,
      "metadata": {
        "id": "U6QYqi6GLoa4",
        "outputId": "eac22437-c1c3-4ca7-b670-fa961f422704",
        "colab": {
          "base_uri": "https://localhost:8080/",
          "height": 363
        }
      },
      "outputs": [
        {
          "output_type": "execute_result",
          "data": {
            "text/plain": [
              "           dt  AverageTemperature  AverageTemperatureUncertainty     City  \\\n",
              "0  1849-01-01              26.704                          1.435  Abidjan   \n",
              "1  1849-02-01              27.434                          1.362  Abidjan   \n",
              "2  1849-03-01              28.101                          1.612  Abidjan   \n",
              "3  1849-04-01              26.140                          1.387  Abidjan   \n",
              "4  1849-05-01              25.427                          1.200  Abidjan   \n",
              "5  1849-06-01              24.844                          1.402  Abidjan   \n",
              "6  1849-07-01              24.058                          1.254  Abidjan   \n",
              "7  1849-08-01              23.576                          1.265  Abidjan   \n",
              "8  1849-09-01              23.662                          1.226  Abidjan   \n",
              "9  1849-10-01              25.263                          1.175  Abidjan   \n",
              "\n",
              "         Country Latitude Longitude  \n",
              "0  Côte D'Ivoire    5.63N     3.23W  \n",
              "1  Côte D'Ivoire    5.63N     3.23W  \n",
              "2  Côte D'Ivoire    5.63N     3.23W  \n",
              "3  Côte D'Ivoire    5.63N     3.23W  \n",
              "4  Côte D'Ivoire    5.63N     3.23W  \n",
              "5  Côte D'Ivoire    5.63N     3.23W  \n",
              "6  Côte D'Ivoire    5.63N     3.23W  \n",
              "7  Côte D'Ivoire    5.63N     3.23W  \n",
              "8  Côte D'Ivoire    5.63N     3.23W  \n",
              "9  Côte D'Ivoire    5.63N     3.23W  "
            ],
            "text/html": [
              "\n",
              "  <div id=\"df-83f7616d-7164-48d1-84e8-d98d3cfe7df0\" class=\"colab-df-container\">\n",
              "    <div>\n",
              "<style scoped>\n",
              "    .dataframe tbody tr th:only-of-type {\n",
              "        vertical-align: middle;\n",
              "    }\n",
              "\n",
              "    .dataframe tbody tr th {\n",
              "        vertical-align: top;\n",
              "    }\n",
              "\n",
              "    .dataframe thead th {\n",
              "        text-align: right;\n",
              "    }\n",
              "</style>\n",
              "<table border=\"1\" class=\"dataframe\">\n",
              "  <thead>\n",
              "    <tr style=\"text-align: right;\">\n",
              "      <th></th>\n",
              "      <th>dt</th>\n",
              "      <th>AverageTemperature</th>\n",
              "      <th>AverageTemperatureUncertainty</th>\n",
              "      <th>City</th>\n",
              "      <th>Country</th>\n",
              "      <th>Latitude</th>\n",
              "      <th>Longitude</th>\n",
              "    </tr>\n",
              "  </thead>\n",
              "  <tbody>\n",
              "    <tr>\n",
              "      <th>0</th>\n",
              "      <td>1849-01-01</td>\n",
              "      <td>26.704</td>\n",
              "      <td>1.435</td>\n",
              "      <td>Abidjan</td>\n",
              "      <td>Côte D'Ivoire</td>\n",
              "      <td>5.63N</td>\n",
              "      <td>3.23W</td>\n",
              "    </tr>\n",
              "    <tr>\n",
              "      <th>1</th>\n",
              "      <td>1849-02-01</td>\n",
              "      <td>27.434</td>\n",
              "      <td>1.362</td>\n",
              "      <td>Abidjan</td>\n",
              "      <td>Côte D'Ivoire</td>\n",
              "      <td>5.63N</td>\n",
              "      <td>3.23W</td>\n",
              "    </tr>\n",
              "    <tr>\n",
              "      <th>2</th>\n",
              "      <td>1849-03-01</td>\n",
              "      <td>28.101</td>\n",
              "      <td>1.612</td>\n",
              "      <td>Abidjan</td>\n",
              "      <td>Côte D'Ivoire</td>\n",
              "      <td>5.63N</td>\n",
              "      <td>3.23W</td>\n",
              "    </tr>\n",
              "    <tr>\n",
              "      <th>3</th>\n",
              "      <td>1849-04-01</td>\n",
              "      <td>26.140</td>\n",
              "      <td>1.387</td>\n",
              "      <td>Abidjan</td>\n",
              "      <td>Côte D'Ivoire</td>\n",
              "      <td>5.63N</td>\n",
              "      <td>3.23W</td>\n",
              "    </tr>\n",
              "    <tr>\n",
              "      <th>4</th>\n",
              "      <td>1849-05-01</td>\n",
              "      <td>25.427</td>\n",
              "      <td>1.200</td>\n",
              "      <td>Abidjan</td>\n",
              "      <td>Côte D'Ivoire</td>\n",
              "      <td>5.63N</td>\n",
              "      <td>3.23W</td>\n",
              "    </tr>\n",
              "    <tr>\n",
              "      <th>5</th>\n",
              "      <td>1849-06-01</td>\n",
              "      <td>24.844</td>\n",
              "      <td>1.402</td>\n",
              "      <td>Abidjan</td>\n",
              "      <td>Côte D'Ivoire</td>\n",
              "      <td>5.63N</td>\n",
              "      <td>3.23W</td>\n",
              "    </tr>\n",
              "    <tr>\n",
              "      <th>6</th>\n",
              "      <td>1849-07-01</td>\n",
              "      <td>24.058</td>\n",
              "      <td>1.254</td>\n",
              "      <td>Abidjan</td>\n",
              "      <td>Côte D'Ivoire</td>\n",
              "      <td>5.63N</td>\n",
              "      <td>3.23W</td>\n",
              "    </tr>\n",
              "    <tr>\n",
              "      <th>7</th>\n",
              "      <td>1849-08-01</td>\n",
              "      <td>23.576</td>\n",
              "      <td>1.265</td>\n",
              "      <td>Abidjan</td>\n",
              "      <td>Côte D'Ivoire</td>\n",
              "      <td>5.63N</td>\n",
              "      <td>3.23W</td>\n",
              "    </tr>\n",
              "    <tr>\n",
              "      <th>8</th>\n",
              "      <td>1849-09-01</td>\n",
              "      <td>23.662</td>\n",
              "      <td>1.226</td>\n",
              "      <td>Abidjan</td>\n",
              "      <td>Côte D'Ivoire</td>\n",
              "      <td>5.63N</td>\n",
              "      <td>3.23W</td>\n",
              "    </tr>\n",
              "    <tr>\n",
              "      <th>9</th>\n",
              "      <td>1849-10-01</td>\n",
              "      <td>25.263</td>\n",
              "      <td>1.175</td>\n",
              "      <td>Abidjan</td>\n",
              "      <td>Côte D'Ivoire</td>\n",
              "      <td>5.63N</td>\n",
              "      <td>3.23W</td>\n",
              "    </tr>\n",
              "  </tbody>\n",
              "</table>\n",
              "</div>\n",
              "    <div class=\"colab-df-buttons\">\n",
              "\n",
              "  <div class=\"colab-df-container\">\n",
              "    <button class=\"colab-df-convert\" onclick=\"convertToInteractive('df-83f7616d-7164-48d1-84e8-d98d3cfe7df0')\"\n",
              "            title=\"Convert this dataframe to an interactive table.\"\n",
              "            style=\"display:none;\">\n",
              "\n",
              "  <svg xmlns=\"http://www.w3.org/2000/svg\" height=\"24px\" viewBox=\"0 -960 960 960\">\n",
              "    <path d=\"M120-120v-720h720v720H120Zm60-500h600v-160H180v160Zm220 220h160v-160H400v160Zm0 220h160v-160H400v160ZM180-400h160v-160H180v160Zm440 0h160v-160H620v160ZM180-180h160v-160H180v160Zm440 0h160v-160H620v160Z\"/>\n",
              "  </svg>\n",
              "    </button>\n",
              "\n",
              "  <style>\n",
              "    .colab-df-container {\n",
              "      display:flex;\n",
              "      gap: 12px;\n",
              "    }\n",
              "\n",
              "    .colab-df-convert {\n",
              "      background-color: #E8F0FE;\n",
              "      border: none;\n",
              "      border-radius: 50%;\n",
              "      cursor: pointer;\n",
              "      display: none;\n",
              "      fill: #1967D2;\n",
              "      height: 32px;\n",
              "      padding: 0 0 0 0;\n",
              "      width: 32px;\n",
              "    }\n",
              "\n",
              "    .colab-df-convert:hover {\n",
              "      background-color: #E2EBFA;\n",
              "      box-shadow: 0px 1px 2px rgba(60, 64, 67, 0.3), 0px 1px 3px 1px rgba(60, 64, 67, 0.15);\n",
              "      fill: #174EA6;\n",
              "    }\n",
              "\n",
              "    .colab-df-buttons div {\n",
              "      margin-bottom: 4px;\n",
              "    }\n",
              "\n",
              "    [theme=dark] .colab-df-convert {\n",
              "      background-color: #3B4455;\n",
              "      fill: #D2E3FC;\n",
              "    }\n",
              "\n",
              "    [theme=dark] .colab-df-convert:hover {\n",
              "      background-color: #434B5C;\n",
              "      box-shadow: 0px 1px 3px 1px rgba(0, 0, 0, 0.15);\n",
              "      filter: drop-shadow(0px 1px 2px rgba(0, 0, 0, 0.3));\n",
              "      fill: #FFFFFF;\n",
              "    }\n",
              "  </style>\n",
              "\n",
              "    <script>\n",
              "      const buttonEl =\n",
              "        document.querySelector('#df-83f7616d-7164-48d1-84e8-d98d3cfe7df0 button.colab-df-convert');\n",
              "      buttonEl.style.display =\n",
              "        google.colab.kernel.accessAllowed ? 'block' : 'none';\n",
              "\n",
              "      async function convertToInteractive(key) {\n",
              "        const element = document.querySelector('#df-83f7616d-7164-48d1-84e8-d98d3cfe7df0');\n",
              "        const dataTable =\n",
              "          await google.colab.kernel.invokeFunction('convertToInteractive',\n",
              "                                                    [key], {});\n",
              "        if (!dataTable) return;\n",
              "\n",
              "        const docLinkHtml = 'Like what you see? Visit the ' +\n",
              "          '<a target=\"_blank\" href=https://colab.research.google.com/notebooks/data_table.ipynb>data table notebook</a>'\n",
              "          + ' to learn more about interactive tables.';\n",
              "        element.innerHTML = '';\n",
              "        dataTable['output_type'] = 'display_data';\n",
              "        await google.colab.output.renderOutput(dataTable, element);\n",
              "        const docLink = document.createElement('div');\n",
              "        docLink.innerHTML = docLinkHtml;\n",
              "        element.appendChild(docLink);\n",
              "      }\n",
              "    </script>\n",
              "  </div>\n",
              "\n",
              "\n",
              "    <div id=\"df-c5071f7d-049f-4eb6-979b-5818c1fe2994\">\n",
              "      <button class=\"colab-df-quickchart\" onclick=\"quickchart('df-c5071f7d-049f-4eb6-979b-5818c1fe2994')\"\n",
              "                title=\"Suggest charts\"\n",
              "                style=\"display:none;\">\n",
              "\n",
              "<svg xmlns=\"http://www.w3.org/2000/svg\" height=\"24px\"viewBox=\"0 0 24 24\"\n",
              "     width=\"24px\">\n",
              "    <g>\n",
              "        <path d=\"M19 3H5c-1.1 0-2 .9-2 2v14c0 1.1.9 2 2 2h14c1.1 0 2-.9 2-2V5c0-1.1-.9-2-2-2zM9 17H7v-7h2v7zm4 0h-2V7h2v10zm4 0h-2v-4h2v4z\"/>\n",
              "    </g>\n",
              "</svg>\n",
              "      </button>\n",
              "\n",
              "<style>\n",
              "  .colab-df-quickchart {\n",
              "      --bg-color: #E8F0FE;\n",
              "      --fill-color: #1967D2;\n",
              "      --hover-bg-color: #E2EBFA;\n",
              "      --hover-fill-color: #174EA6;\n",
              "      --disabled-fill-color: #AAA;\n",
              "      --disabled-bg-color: #DDD;\n",
              "  }\n",
              "\n",
              "  [theme=dark] .colab-df-quickchart {\n",
              "      --bg-color: #3B4455;\n",
              "      --fill-color: #D2E3FC;\n",
              "      --hover-bg-color: #434B5C;\n",
              "      --hover-fill-color: #FFFFFF;\n",
              "      --disabled-bg-color: #3B4455;\n",
              "      --disabled-fill-color: #666;\n",
              "  }\n",
              "\n",
              "  .colab-df-quickchart {\n",
              "    background-color: var(--bg-color);\n",
              "    border: none;\n",
              "    border-radius: 50%;\n",
              "    cursor: pointer;\n",
              "    display: none;\n",
              "    fill: var(--fill-color);\n",
              "    height: 32px;\n",
              "    padding: 0;\n",
              "    width: 32px;\n",
              "  }\n",
              "\n",
              "  .colab-df-quickchart:hover {\n",
              "    background-color: var(--hover-bg-color);\n",
              "    box-shadow: 0 1px 2px rgba(60, 64, 67, 0.3), 0 1px 3px 1px rgba(60, 64, 67, 0.15);\n",
              "    fill: var(--button-hover-fill-color);\n",
              "  }\n",
              "\n",
              "  .colab-df-quickchart-complete:disabled,\n",
              "  .colab-df-quickchart-complete:disabled:hover {\n",
              "    background-color: var(--disabled-bg-color);\n",
              "    fill: var(--disabled-fill-color);\n",
              "    box-shadow: none;\n",
              "  }\n",
              "\n",
              "  .colab-df-spinner {\n",
              "    border: 2px solid var(--fill-color);\n",
              "    border-color: transparent;\n",
              "    border-bottom-color: var(--fill-color);\n",
              "    animation:\n",
              "      spin 1s steps(1) infinite;\n",
              "  }\n",
              "\n",
              "  @keyframes spin {\n",
              "    0% {\n",
              "      border-color: transparent;\n",
              "      border-bottom-color: var(--fill-color);\n",
              "      border-left-color: var(--fill-color);\n",
              "    }\n",
              "    20% {\n",
              "      border-color: transparent;\n",
              "      border-left-color: var(--fill-color);\n",
              "      border-top-color: var(--fill-color);\n",
              "    }\n",
              "    30% {\n",
              "      border-color: transparent;\n",
              "      border-left-color: var(--fill-color);\n",
              "      border-top-color: var(--fill-color);\n",
              "      border-right-color: var(--fill-color);\n",
              "    }\n",
              "    40% {\n",
              "      border-color: transparent;\n",
              "      border-right-color: var(--fill-color);\n",
              "      border-top-color: var(--fill-color);\n",
              "    }\n",
              "    60% {\n",
              "      border-color: transparent;\n",
              "      border-right-color: var(--fill-color);\n",
              "    }\n",
              "    80% {\n",
              "      border-color: transparent;\n",
              "      border-right-color: var(--fill-color);\n",
              "      border-bottom-color: var(--fill-color);\n",
              "    }\n",
              "    90% {\n",
              "      border-color: transparent;\n",
              "      border-bottom-color: var(--fill-color);\n",
              "    }\n",
              "  }\n",
              "</style>\n",
              "\n",
              "      <script>\n",
              "        async function quickchart(key) {\n",
              "          const quickchartButtonEl =\n",
              "            document.querySelector('#' + key + ' button');\n",
              "          quickchartButtonEl.disabled = true;  // To prevent multiple clicks.\n",
              "          quickchartButtonEl.classList.add('colab-df-spinner');\n",
              "          try {\n",
              "            const charts = await google.colab.kernel.invokeFunction(\n",
              "                'suggestCharts', [key], {});\n",
              "          } catch (error) {\n",
              "            console.error('Error during call to suggestCharts:', error);\n",
              "          }\n",
              "          quickchartButtonEl.classList.remove('colab-df-spinner');\n",
              "          quickchartButtonEl.classList.add('colab-df-quickchart-complete');\n",
              "        }\n",
              "        (() => {\n",
              "          let quickchartButtonEl =\n",
              "            document.querySelector('#df-c5071f7d-049f-4eb6-979b-5818c1fe2994 button');\n",
              "          quickchartButtonEl.style.display =\n",
              "            google.colab.kernel.accessAllowed ? 'block' : 'none';\n",
              "        })();\n",
              "      </script>\n",
              "    </div>\n",
              "\n",
              "    </div>\n",
              "  </div>\n"
            ],
            "application/vnd.google.colaboratory.intrinsic+json": {
              "type": "dataframe",
              "variable_name": "global_temps"
            }
          },
          "metadata": {},
          "execution_count": 7
        }
      ],
      "source": [
        "# Print the first few rows\n",
        "# YOUR CODE HERE\n",
        "global_temps.head(10)"
      ]
    },
    {
      "cell_type": "markdown",
      "metadata": {
        "id": "HKtpSF5cLoa5"
      },
      "source": [
        "#### `.tail()` - View the last few rows\n",
        "Similar to `.head()`, this method shows you the last 5 rows of your DataFrame.\n",
        "\n",
        "**Why it's useful**: This can help you spot any issues with the end of your file, such as summary rows or trailing blank data that might have been loaded incorrectly."
      ]
    },
    {
      "cell_type": "code",
      "execution_count": 8,
      "metadata": {
        "id": "aOuMO-jnLoa8",
        "outputId": "625dc286-5cc8-4e18-fddb-3382a942baa8",
        "colab": {
          "base_uri": "https://localhost:8080/",
          "height": 206
        }
      },
      "outputs": [
        {
          "output_type": "execute_result",
          "data": {
            "text/plain": [
              "                dt  AverageTemperature  AverageTemperatureUncertainty  City  \\\n",
              "239172  2013-05-01              18.979                          0.807  Xian   \n",
              "239173  2013-06-01              23.522                          0.647  Xian   \n",
              "239174  2013-07-01              25.251                          1.042  Xian   \n",
              "239175  2013-08-01              24.528                          0.840  Xian   \n",
              "239176  2013-09-01                 NaN                            NaN  Xian   \n",
              "\n",
              "       Country Latitude Longitude  \n",
              "239172   China   34.56N   108.97E  \n",
              "239173   China   34.56N   108.97E  \n",
              "239174   China   34.56N   108.97E  \n",
              "239175   China   34.56N   108.97E  \n",
              "239176   China   34.56N   108.97E  "
            ],
            "text/html": [
              "\n",
              "  <div id=\"df-ce79f4f8-047a-48cf-9c17-cf6e71d04798\" class=\"colab-df-container\">\n",
              "    <div>\n",
              "<style scoped>\n",
              "    .dataframe tbody tr th:only-of-type {\n",
              "        vertical-align: middle;\n",
              "    }\n",
              "\n",
              "    .dataframe tbody tr th {\n",
              "        vertical-align: top;\n",
              "    }\n",
              "\n",
              "    .dataframe thead th {\n",
              "        text-align: right;\n",
              "    }\n",
              "</style>\n",
              "<table border=\"1\" class=\"dataframe\">\n",
              "  <thead>\n",
              "    <tr style=\"text-align: right;\">\n",
              "      <th></th>\n",
              "      <th>dt</th>\n",
              "      <th>AverageTemperature</th>\n",
              "      <th>AverageTemperatureUncertainty</th>\n",
              "      <th>City</th>\n",
              "      <th>Country</th>\n",
              "      <th>Latitude</th>\n",
              "      <th>Longitude</th>\n",
              "    </tr>\n",
              "  </thead>\n",
              "  <tbody>\n",
              "    <tr>\n",
              "      <th>239172</th>\n",
              "      <td>2013-05-01</td>\n",
              "      <td>18.979</td>\n",
              "      <td>0.807</td>\n",
              "      <td>Xian</td>\n",
              "      <td>China</td>\n",
              "      <td>34.56N</td>\n",
              "      <td>108.97E</td>\n",
              "    </tr>\n",
              "    <tr>\n",
              "      <th>239173</th>\n",
              "      <td>2013-06-01</td>\n",
              "      <td>23.522</td>\n",
              "      <td>0.647</td>\n",
              "      <td>Xian</td>\n",
              "      <td>China</td>\n",
              "      <td>34.56N</td>\n",
              "      <td>108.97E</td>\n",
              "    </tr>\n",
              "    <tr>\n",
              "      <th>239174</th>\n",
              "      <td>2013-07-01</td>\n",
              "      <td>25.251</td>\n",
              "      <td>1.042</td>\n",
              "      <td>Xian</td>\n",
              "      <td>China</td>\n",
              "      <td>34.56N</td>\n",
              "      <td>108.97E</td>\n",
              "    </tr>\n",
              "    <tr>\n",
              "      <th>239175</th>\n",
              "      <td>2013-08-01</td>\n",
              "      <td>24.528</td>\n",
              "      <td>0.840</td>\n",
              "      <td>Xian</td>\n",
              "      <td>China</td>\n",
              "      <td>34.56N</td>\n",
              "      <td>108.97E</td>\n",
              "    </tr>\n",
              "    <tr>\n",
              "      <th>239176</th>\n",
              "      <td>2013-09-01</td>\n",
              "      <td>NaN</td>\n",
              "      <td>NaN</td>\n",
              "      <td>Xian</td>\n",
              "      <td>China</td>\n",
              "      <td>34.56N</td>\n",
              "      <td>108.97E</td>\n",
              "    </tr>\n",
              "  </tbody>\n",
              "</table>\n",
              "</div>\n",
              "    <div class=\"colab-df-buttons\">\n",
              "\n",
              "  <div class=\"colab-df-container\">\n",
              "    <button class=\"colab-df-convert\" onclick=\"convertToInteractive('df-ce79f4f8-047a-48cf-9c17-cf6e71d04798')\"\n",
              "            title=\"Convert this dataframe to an interactive table.\"\n",
              "            style=\"display:none;\">\n",
              "\n",
              "  <svg xmlns=\"http://www.w3.org/2000/svg\" height=\"24px\" viewBox=\"0 -960 960 960\">\n",
              "    <path d=\"M120-120v-720h720v720H120Zm60-500h600v-160H180v160Zm220 220h160v-160H400v160Zm0 220h160v-160H400v160ZM180-400h160v-160H180v160Zm440 0h160v-160H620v160ZM180-180h160v-160H180v160Zm440 0h160v-160H620v160Z\"/>\n",
              "  </svg>\n",
              "    </button>\n",
              "\n",
              "  <style>\n",
              "    .colab-df-container {\n",
              "      display:flex;\n",
              "      gap: 12px;\n",
              "    }\n",
              "\n",
              "    .colab-df-convert {\n",
              "      background-color: #E8F0FE;\n",
              "      border: none;\n",
              "      border-radius: 50%;\n",
              "      cursor: pointer;\n",
              "      display: none;\n",
              "      fill: #1967D2;\n",
              "      height: 32px;\n",
              "      padding: 0 0 0 0;\n",
              "      width: 32px;\n",
              "    }\n",
              "\n",
              "    .colab-df-convert:hover {\n",
              "      background-color: #E2EBFA;\n",
              "      box-shadow: 0px 1px 2px rgba(60, 64, 67, 0.3), 0px 1px 3px 1px rgba(60, 64, 67, 0.15);\n",
              "      fill: #174EA6;\n",
              "    }\n",
              "\n",
              "    .colab-df-buttons div {\n",
              "      margin-bottom: 4px;\n",
              "    }\n",
              "\n",
              "    [theme=dark] .colab-df-convert {\n",
              "      background-color: #3B4455;\n",
              "      fill: #D2E3FC;\n",
              "    }\n",
              "\n",
              "    [theme=dark] .colab-df-convert:hover {\n",
              "      background-color: #434B5C;\n",
              "      box-shadow: 0px 1px 3px 1px rgba(0, 0, 0, 0.15);\n",
              "      filter: drop-shadow(0px 1px 2px rgba(0, 0, 0, 0.3));\n",
              "      fill: #FFFFFF;\n",
              "    }\n",
              "  </style>\n",
              "\n",
              "    <script>\n",
              "      const buttonEl =\n",
              "        document.querySelector('#df-ce79f4f8-047a-48cf-9c17-cf6e71d04798 button.colab-df-convert');\n",
              "      buttonEl.style.display =\n",
              "        google.colab.kernel.accessAllowed ? 'block' : 'none';\n",
              "\n",
              "      async function convertToInteractive(key) {\n",
              "        const element = document.querySelector('#df-ce79f4f8-047a-48cf-9c17-cf6e71d04798');\n",
              "        const dataTable =\n",
              "          await google.colab.kernel.invokeFunction('convertToInteractive',\n",
              "                                                    [key], {});\n",
              "        if (!dataTable) return;\n",
              "\n",
              "        const docLinkHtml = 'Like what you see? Visit the ' +\n",
              "          '<a target=\"_blank\" href=https://colab.research.google.com/notebooks/data_table.ipynb>data table notebook</a>'\n",
              "          + ' to learn more about interactive tables.';\n",
              "        element.innerHTML = '';\n",
              "        dataTable['output_type'] = 'display_data';\n",
              "        await google.colab.output.renderOutput(dataTable, element);\n",
              "        const docLink = document.createElement('div');\n",
              "        docLink.innerHTML = docLinkHtml;\n",
              "        element.appendChild(docLink);\n",
              "      }\n",
              "    </script>\n",
              "  </div>\n",
              "\n",
              "\n",
              "    <div id=\"df-e2734bcc-8e55-47cc-852b-7bd8ea68c76e\">\n",
              "      <button class=\"colab-df-quickchart\" onclick=\"quickchart('df-e2734bcc-8e55-47cc-852b-7bd8ea68c76e')\"\n",
              "                title=\"Suggest charts\"\n",
              "                style=\"display:none;\">\n",
              "\n",
              "<svg xmlns=\"http://www.w3.org/2000/svg\" height=\"24px\"viewBox=\"0 0 24 24\"\n",
              "     width=\"24px\">\n",
              "    <g>\n",
              "        <path d=\"M19 3H5c-1.1 0-2 .9-2 2v14c0 1.1.9 2 2 2h14c1.1 0 2-.9 2-2V5c0-1.1-.9-2-2-2zM9 17H7v-7h2v7zm4 0h-2V7h2v10zm4 0h-2v-4h2v4z\"/>\n",
              "    </g>\n",
              "</svg>\n",
              "      </button>\n",
              "\n",
              "<style>\n",
              "  .colab-df-quickchart {\n",
              "      --bg-color: #E8F0FE;\n",
              "      --fill-color: #1967D2;\n",
              "      --hover-bg-color: #E2EBFA;\n",
              "      --hover-fill-color: #174EA6;\n",
              "      --disabled-fill-color: #AAA;\n",
              "      --disabled-bg-color: #DDD;\n",
              "  }\n",
              "\n",
              "  [theme=dark] .colab-df-quickchart {\n",
              "      --bg-color: #3B4455;\n",
              "      --fill-color: #D2E3FC;\n",
              "      --hover-bg-color: #434B5C;\n",
              "      --hover-fill-color: #FFFFFF;\n",
              "      --disabled-bg-color: #3B4455;\n",
              "      --disabled-fill-color: #666;\n",
              "  }\n",
              "\n",
              "  .colab-df-quickchart {\n",
              "    background-color: var(--bg-color);\n",
              "    border: none;\n",
              "    border-radius: 50%;\n",
              "    cursor: pointer;\n",
              "    display: none;\n",
              "    fill: var(--fill-color);\n",
              "    height: 32px;\n",
              "    padding: 0;\n",
              "    width: 32px;\n",
              "  }\n",
              "\n",
              "  .colab-df-quickchart:hover {\n",
              "    background-color: var(--hover-bg-color);\n",
              "    box-shadow: 0 1px 2px rgba(60, 64, 67, 0.3), 0 1px 3px 1px rgba(60, 64, 67, 0.15);\n",
              "    fill: var(--button-hover-fill-color);\n",
              "  }\n",
              "\n",
              "  .colab-df-quickchart-complete:disabled,\n",
              "  .colab-df-quickchart-complete:disabled:hover {\n",
              "    background-color: var(--disabled-bg-color);\n",
              "    fill: var(--disabled-fill-color);\n",
              "    box-shadow: none;\n",
              "  }\n",
              "\n",
              "  .colab-df-spinner {\n",
              "    border: 2px solid var(--fill-color);\n",
              "    border-color: transparent;\n",
              "    border-bottom-color: var(--fill-color);\n",
              "    animation:\n",
              "      spin 1s steps(1) infinite;\n",
              "  }\n",
              "\n",
              "  @keyframes spin {\n",
              "    0% {\n",
              "      border-color: transparent;\n",
              "      border-bottom-color: var(--fill-color);\n",
              "      border-left-color: var(--fill-color);\n",
              "    }\n",
              "    20% {\n",
              "      border-color: transparent;\n",
              "      border-left-color: var(--fill-color);\n",
              "      border-top-color: var(--fill-color);\n",
              "    }\n",
              "    30% {\n",
              "      border-color: transparent;\n",
              "      border-left-color: var(--fill-color);\n",
              "      border-top-color: var(--fill-color);\n",
              "      border-right-color: var(--fill-color);\n",
              "    }\n",
              "    40% {\n",
              "      border-color: transparent;\n",
              "      border-right-color: var(--fill-color);\n",
              "      border-top-color: var(--fill-color);\n",
              "    }\n",
              "    60% {\n",
              "      border-color: transparent;\n",
              "      border-right-color: var(--fill-color);\n",
              "    }\n",
              "    80% {\n",
              "      border-color: transparent;\n",
              "      border-right-color: var(--fill-color);\n",
              "      border-bottom-color: var(--fill-color);\n",
              "    }\n",
              "    90% {\n",
              "      border-color: transparent;\n",
              "      border-bottom-color: var(--fill-color);\n",
              "    }\n",
              "  }\n",
              "</style>\n",
              "\n",
              "      <script>\n",
              "        async function quickchart(key) {\n",
              "          const quickchartButtonEl =\n",
              "            document.querySelector('#' + key + ' button');\n",
              "          quickchartButtonEl.disabled = true;  // To prevent multiple clicks.\n",
              "          quickchartButtonEl.classList.add('colab-df-spinner');\n",
              "          try {\n",
              "            const charts = await google.colab.kernel.invokeFunction(\n",
              "                'suggestCharts', [key], {});\n",
              "          } catch (error) {\n",
              "            console.error('Error during call to suggestCharts:', error);\n",
              "          }\n",
              "          quickchartButtonEl.classList.remove('colab-df-spinner');\n",
              "          quickchartButtonEl.classList.add('colab-df-quickchart-complete');\n",
              "        }\n",
              "        (() => {\n",
              "          let quickchartButtonEl =\n",
              "            document.querySelector('#df-e2734bcc-8e55-47cc-852b-7bd8ea68c76e button');\n",
              "          quickchartButtonEl.style.display =\n",
              "            google.colab.kernel.accessAllowed ? 'block' : 'none';\n",
              "        })();\n",
              "      </script>\n",
              "    </div>\n",
              "\n",
              "    </div>\n",
              "  </div>\n"
            ],
            "application/vnd.google.colaboratory.intrinsic+json": {
              "type": "dataframe",
              "repr_error": "0"
            }
          },
          "metadata": {},
          "execution_count": 8
        }
      ],
      "source": [
        "# YOUR CODE HERE\n",
        "global_temps.tail()"
      ]
    },
    {
      "cell_type": "markdown",
      "metadata": {
        "id": "V97UfiaULoa-"
      },
      "source": [
        "#### `.shape` - Check the dimensions\n",
        "This is an attribute (not a method, so no parentheses) that returns a tuple representing the dimensions of the DataFrame: `(number_of_rows, number_of_columns)`.\n",
        "\n",
        "**Why it's useful**: It tells you exactly how big your dataset is, which is fundamental information for any further analysis."
      ]
    },
    {
      "cell_type": "code",
      "execution_count": 9,
      "metadata": {
        "id": "dz6LN-QxLoa_",
        "outputId": "0a3b5837-c925-462c-8078-876fc03476f9",
        "colab": {
          "base_uri": "https://localhost:8080/"
        }
      },
      "outputs": [
        {
          "output_type": "execute_result",
          "data": {
            "text/plain": [
              "(239177, 7)"
            ]
          },
          "metadata": {},
          "execution_count": 9
        }
      ],
      "source": [
        "# YOUR CODE HERE\n",
        "global_temps.shape"
      ]
    },
    {
      "cell_type": "markdown",
      "metadata": {
        "id": "13_5LHGFLobA"
      },
      "source": [
        "#### `.info()` - Get a technical summary\n",
        "\n",
        "This method provides a concise technical summary of the dataframe. It's one of the most valuable inspection tools.\n",
        "\n",
        "**Why it's useful**:\n",
        "- Index type: Shows the index type and range.\n",
        "- Column count: Confirms the total number of columns.\n",
        "- Dtype: Shows the data type (e.g., `int64`, `float64`, `object`) for each column. An object dtype often means the column contains strings.\n",
        "- Memory usage: Gives you an idea of how much memory the dataframe is using."
      ]
    },
    {
      "cell_type": "code",
      "execution_count": 10,
      "metadata": {
        "id": "TbuICZd6LobB",
        "outputId": "008b1fc3-93d5-48c4-a6ce-a33f22d1c7a7",
        "colab": {
          "base_uri": "https://localhost:8080/"
        }
      },
      "outputs": [
        {
          "output_type": "stream",
          "name": "stdout",
          "text": [
            "<class 'pandas.core.frame.DataFrame'>\n",
            "RangeIndex: 239177 entries, 0 to 239176\n",
            "Data columns (total 7 columns):\n",
            " #   Column                         Non-Null Count   Dtype  \n",
            "---  ------                         --------------   -----  \n",
            " 0   dt                             239177 non-null  object \n",
            " 1   AverageTemperature             228175 non-null  float64\n",
            " 2   AverageTemperatureUncertainty  228175 non-null  float64\n",
            " 3   City                           239177 non-null  object \n",
            " 4   Country                        239177 non-null  object \n",
            " 5   Latitude                       239177 non-null  object \n",
            " 6   Longitude                      239177 non-null  object \n",
            "dtypes: float64(2), object(5)\n",
            "memory usage: 12.8+ MB\n"
          ]
        }
      ],
      "source": [
        "# YOUR CODE HERE\n",
        "global_temps.info()"
      ]
    },
    {
      "cell_type": "markdown",
      "metadata": {
        "id": "W4oem736LobC"
      },
      "source": [
        "#### `.describe()` - Generate descriptive statistics\n",
        "\n",
        "This method generates descriptive statistics for the numerical columns in your dataframe.\n",
        "\n",
        "**Why it's useful**: It provides a quick overview of the distribution, central tendency, and spread of your numerical data. You can quickly spot things like outliers (e.g., a huge max value) or unexpected distributions."
      ]
    },
    {
      "cell_type": "code",
      "execution_count": 11,
      "metadata": {
        "scrolled": true,
        "id": "KF3q9H8FLobD",
        "outputId": "b9213e25-b286-461c-9bea-d211b4cdb294",
        "colab": {
          "base_uri": "https://localhost:8080/",
          "height": 300
        }
      },
      "outputs": [
        {
          "output_type": "execute_result",
          "data": {
            "text/plain": [
              "       AverageTemperature  AverageTemperatureUncertainty\n",
              "count       228175.000000                  228175.000000\n",
              "mean            18.125969                       0.969343\n",
              "std             10.024800                       0.979644\n",
              "min            -26.772000                       0.040000\n",
              "25%             12.710000                       0.340000\n",
              "50%             20.428000                       0.592000\n",
              "75%             25.918000                       1.320000\n",
              "max             38.283000                      14.037000"
            ],
            "text/html": [
              "\n",
              "  <div id=\"df-bcec9ba0-2b6a-4796-9823-1e805eab049f\" class=\"colab-df-container\">\n",
              "    <div>\n",
              "<style scoped>\n",
              "    .dataframe tbody tr th:only-of-type {\n",
              "        vertical-align: middle;\n",
              "    }\n",
              "\n",
              "    .dataframe tbody tr th {\n",
              "        vertical-align: top;\n",
              "    }\n",
              "\n",
              "    .dataframe thead th {\n",
              "        text-align: right;\n",
              "    }\n",
              "</style>\n",
              "<table border=\"1\" class=\"dataframe\">\n",
              "  <thead>\n",
              "    <tr style=\"text-align: right;\">\n",
              "      <th></th>\n",
              "      <th>AverageTemperature</th>\n",
              "      <th>AverageTemperatureUncertainty</th>\n",
              "    </tr>\n",
              "  </thead>\n",
              "  <tbody>\n",
              "    <tr>\n",
              "      <th>count</th>\n",
              "      <td>228175.000000</td>\n",
              "      <td>228175.000000</td>\n",
              "    </tr>\n",
              "    <tr>\n",
              "      <th>mean</th>\n",
              "      <td>18.125969</td>\n",
              "      <td>0.969343</td>\n",
              "    </tr>\n",
              "    <tr>\n",
              "      <th>std</th>\n",
              "      <td>10.024800</td>\n",
              "      <td>0.979644</td>\n",
              "    </tr>\n",
              "    <tr>\n",
              "      <th>min</th>\n",
              "      <td>-26.772000</td>\n",
              "      <td>0.040000</td>\n",
              "    </tr>\n",
              "    <tr>\n",
              "      <th>25%</th>\n",
              "      <td>12.710000</td>\n",
              "      <td>0.340000</td>\n",
              "    </tr>\n",
              "    <tr>\n",
              "      <th>50%</th>\n",
              "      <td>20.428000</td>\n",
              "      <td>0.592000</td>\n",
              "    </tr>\n",
              "    <tr>\n",
              "      <th>75%</th>\n",
              "      <td>25.918000</td>\n",
              "      <td>1.320000</td>\n",
              "    </tr>\n",
              "    <tr>\n",
              "      <th>max</th>\n",
              "      <td>38.283000</td>\n",
              "      <td>14.037000</td>\n",
              "    </tr>\n",
              "  </tbody>\n",
              "</table>\n",
              "</div>\n",
              "    <div class=\"colab-df-buttons\">\n",
              "\n",
              "  <div class=\"colab-df-container\">\n",
              "    <button class=\"colab-df-convert\" onclick=\"convertToInteractive('df-bcec9ba0-2b6a-4796-9823-1e805eab049f')\"\n",
              "            title=\"Convert this dataframe to an interactive table.\"\n",
              "            style=\"display:none;\">\n",
              "\n",
              "  <svg xmlns=\"http://www.w3.org/2000/svg\" height=\"24px\" viewBox=\"0 -960 960 960\">\n",
              "    <path d=\"M120-120v-720h720v720H120Zm60-500h600v-160H180v160Zm220 220h160v-160H400v160Zm0 220h160v-160H400v160ZM180-400h160v-160H180v160Zm440 0h160v-160H620v160ZM180-180h160v-160H180v160Zm440 0h160v-160H620v160Z\"/>\n",
              "  </svg>\n",
              "    </button>\n",
              "\n",
              "  <style>\n",
              "    .colab-df-container {\n",
              "      display:flex;\n",
              "      gap: 12px;\n",
              "    }\n",
              "\n",
              "    .colab-df-convert {\n",
              "      background-color: #E8F0FE;\n",
              "      border: none;\n",
              "      border-radius: 50%;\n",
              "      cursor: pointer;\n",
              "      display: none;\n",
              "      fill: #1967D2;\n",
              "      height: 32px;\n",
              "      padding: 0 0 0 0;\n",
              "      width: 32px;\n",
              "    }\n",
              "\n",
              "    .colab-df-convert:hover {\n",
              "      background-color: #E2EBFA;\n",
              "      box-shadow: 0px 1px 2px rgba(60, 64, 67, 0.3), 0px 1px 3px 1px rgba(60, 64, 67, 0.15);\n",
              "      fill: #174EA6;\n",
              "    }\n",
              "\n",
              "    .colab-df-buttons div {\n",
              "      margin-bottom: 4px;\n",
              "    }\n",
              "\n",
              "    [theme=dark] .colab-df-convert {\n",
              "      background-color: #3B4455;\n",
              "      fill: #D2E3FC;\n",
              "    }\n",
              "\n",
              "    [theme=dark] .colab-df-convert:hover {\n",
              "      background-color: #434B5C;\n",
              "      box-shadow: 0px 1px 3px 1px rgba(0, 0, 0, 0.15);\n",
              "      filter: drop-shadow(0px 1px 2px rgba(0, 0, 0, 0.3));\n",
              "      fill: #FFFFFF;\n",
              "    }\n",
              "  </style>\n",
              "\n",
              "    <script>\n",
              "      const buttonEl =\n",
              "        document.querySelector('#df-bcec9ba0-2b6a-4796-9823-1e805eab049f button.colab-df-convert');\n",
              "      buttonEl.style.display =\n",
              "        google.colab.kernel.accessAllowed ? 'block' : 'none';\n",
              "\n",
              "      async function convertToInteractive(key) {\n",
              "        const element = document.querySelector('#df-bcec9ba0-2b6a-4796-9823-1e805eab049f');\n",
              "        const dataTable =\n",
              "          await google.colab.kernel.invokeFunction('convertToInteractive',\n",
              "                                                    [key], {});\n",
              "        if (!dataTable) return;\n",
              "\n",
              "        const docLinkHtml = 'Like what you see? Visit the ' +\n",
              "          '<a target=\"_blank\" href=https://colab.research.google.com/notebooks/data_table.ipynb>data table notebook</a>'\n",
              "          + ' to learn more about interactive tables.';\n",
              "        element.innerHTML = '';\n",
              "        dataTable['output_type'] = 'display_data';\n",
              "        await google.colab.output.renderOutput(dataTable, element);\n",
              "        const docLink = document.createElement('div');\n",
              "        docLink.innerHTML = docLinkHtml;\n",
              "        element.appendChild(docLink);\n",
              "      }\n",
              "    </script>\n",
              "  </div>\n",
              "\n",
              "\n",
              "    <div id=\"df-7d9a6b74-db9b-4522-b9fd-def847b4d66d\">\n",
              "      <button class=\"colab-df-quickchart\" onclick=\"quickchart('df-7d9a6b74-db9b-4522-b9fd-def847b4d66d')\"\n",
              "                title=\"Suggest charts\"\n",
              "                style=\"display:none;\">\n",
              "\n",
              "<svg xmlns=\"http://www.w3.org/2000/svg\" height=\"24px\"viewBox=\"0 0 24 24\"\n",
              "     width=\"24px\">\n",
              "    <g>\n",
              "        <path d=\"M19 3H5c-1.1 0-2 .9-2 2v14c0 1.1.9 2 2 2h14c1.1 0 2-.9 2-2V5c0-1.1-.9-2-2-2zM9 17H7v-7h2v7zm4 0h-2V7h2v10zm4 0h-2v-4h2v4z\"/>\n",
              "    </g>\n",
              "</svg>\n",
              "      </button>\n",
              "\n",
              "<style>\n",
              "  .colab-df-quickchart {\n",
              "      --bg-color: #E8F0FE;\n",
              "      --fill-color: #1967D2;\n",
              "      --hover-bg-color: #E2EBFA;\n",
              "      --hover-fill-color: #174EA6;\n",
              "      --disabled-fill-color: #AAA;\n",
              "      --disabled-bg-color: #DDD;\n",
              "  }\n",
              "\n",
              "  [theme=dark] .colab-df-quickchart {\n",
              "      --bg-color: #3B4455;\n",
              "      --fill-color: #D2E3FC;\n",
              "      --hover-bg-color: #434B5C;\n",
              "      --hover-fill-color: #FFFFFF;\n",
              "      --disabled-bg-color: #3B4455;\n",
              "      --disabled-fill-color: #666;\n",
              "  }\n",
              "\n",
              "  .colab-df-quickchart {\n",
              "    background-color: var(--bg-color);\n",
              "    border: none;\n",
              "    border-radius: 50%;\n",
              "    cursor: pointer;\n",
              "    display: none;\n",
              "    fill: var(--fill-color);\n",
              "    height: 32px;\n",
              "    padding: 0;\n",
              "    width: 32px;\n",
              "  }\n",
              "\n",
              "  .colab-df-quickchart:hover {\n",
              "    background-color: var(--hover-bg-color);\n",
              "    box-shadow: 0 1px 2px rgba(60, 64, 67, 0.3), 0 1px 3px 1px rgba(60, 64, 67, 0.15);\n",
              "    fill: var(--button-hover-fill-color);\n",
              "  }\n",
              "\n",
              "  .colab-df-quickchart-complete:disabled,\n",
              "  .colab-df-quickchart-complete:disabled:hover {\n",
              "    background-color: var(--disabled-bg-color);\n",
              "    fill: var(--disabled-fill-color);\n",
              "    box-shadow: none;\n",
              "  }\n",
              "\n",
              "  .colab-df-spinner {\n",
              "    border: 2px solid var(--fill-color);\n",
              "    border-color: transparent;\n",
              "    border-bottom-color: var(--fill-color);\n",
              "    animation:\n",
              "      spin 1s steps(1) infinite;\n",
              "  }\n",
              "\n",
              "  @keyframes spin {\n",
              "    0% {\n",
              "      border-color: transparent;\n",
              "      border-bottom-color: var(--fill-color);\n",
              "      border-left-color: var(--fill-color);\n",
              "    }\n",
              "    20% {\n",
              "      border-color: transparent;\n",
              "      border-left-color: var(--fill-color);\n",
              "      border-top-color: var(--fill-color);\n",
              "    }\n",
              "    30% {\n",
              "      border-color: transparent;\n",
              "      border-left-color: var(--fill-color);\n",
              "      border-top-color: var(--fill-color);\n",
              "      border-right-color: var(--fill-color);\n",
              "    }\n",
              "    40% {\n",
              "      border-color: transparent;\n",
              "      border-right-color: var(--fill-color);\n",
              "      border-top-color: var(--fill-color);\n",
              "    }\n",
              "    60% {\n",
              "      border-color: transparent;\n",
              "      border-right-color: var(--fill-color);\n",
              "    }\n",
              "    80% {\n",
              "      border-color: transparent;\n",
              "      border-right-color: var(--fill-color);\n",
              "      border-bottom-color: var(--fill-color);\n",
              "    }\n",
              "    90% {\n",
              "      border-color: transparent;\n",
              "      border-bottom-color: var(--fill-color);\n",
              "    }\n",
              "  }\n",
              "</style>\n",
              "\n",
              "      <script>\n",
              "        async function quickchart(key) {\n",
              "          const quickchartButtonEl =\n",
              "            document.querySelector('#' + key + ' button');\n",
              "          quickchartButtonEl.disabled = true;  // To prevent multiple clicks.\n",
              "          quickchartButtonEl.classList.add('colab-df-spinner');\n",
              "          try {\n",
              "            const charts = await google.colab.kernel.invokeFunction(\n",
              "                'suggestCharts', [key], {});\n",
              "          } catch (error) {\n",
              "            console.error('Error during call to suggestCharts:', error);\n",
              "          }\n",
              "          quickchartButtonEl.classList.remove('colab-df-spinner');\n",
              "          quickchartButtonEl.classList.add('colab-df-quickchart-complete');\n",
              "        }\n",
              "        (() => {\n",
              "          let quickchartButtonEl =\n",
              "            document.querySelector('#df-7d9a6b74-db9b-4522-b9fd-def847b4d66d button');\n",
              "          quickchartButtonEl.style.display =\n",
              "            google.colab.kernel.accessAllowed ? 'block' : 'none';\n",
              "        })();\n",
              "      </script>\n",
              "    </div>\n",
              "\n",
              "    </div>\n",
              "  </div>\n"
            ],
            "application/vnd.google.colaboratory.intrinsic+json": {
              "type": "dataframe",
              "summary": "{\n  \"name\": \"global_temps\",\n  \"rows\": 8,\n  \"fields\": [\n    {\n      \"column\": \"AverageTemperature\",\n      \"properties\": {\n        \"dtype\": \"number\",\n        \"std\": 80667.06108530317,\n        \"min\": -26.772,\n        \"max\": 228175.0,\n        \"num_unique_values\": 8,\n        \"samples\": [\n          18.125968852854168,\n          20.428,\n          228175.0\n        ],\n        \"semantic_type\": \"\",\n        \"description\": \"\"\n      }\n    },\n    {\n      \"column\": \"AverageTemperatureUncertainty\",\n      \"properties\": {\n        \"dtype\": \"number\",\n        \"std\": 80671.12185669159,\n        \"min\": 0.04,\n        \"max\": 228175.0,\n        \"num_unique_values\": 8,\n        \"samples\": [\n          0.9693434381505424,\n          0.5920000000000001,\n          228175.0\n        ],\n        \"semantic_type\": \"\",\n        \"description\": \"\"\n      }\n    }\n  ]\n}"
            }
          },
          "metadata": {},
          "execution_count": 11
        }
      ],
      "source": [
        "# YOUR CODE HERE\n",
        "global_temps.describe()"
      ]
    },
    {
      "cell_type": "markdown",
      "metadata": {
        "tags": [],
        "id": "AO_paPSFLobE"
      },
      "source": [
        "# Data Wrangling\n",
        "\n",
        "This is one of the hardest parts of working with data. Raw data is rarely ready to be analyzed. Scientists spend a lot of time manipulating their data to get it into a form that can be used. We call it \"wrangling\".\n",
        "\n",
        "<img src = 'https://upload.wikimedia.org/wikipedia/commons/thumb/5/52/Cats_in_aoshima_island_1.JPG/1600px-Cats_in_aoshima_island_1.JPG' width = 400>\n",
        "\n",
        "Possible problems with data:\n",
        "* Getting only the data you need\n",
        "* Incorrect data types\n",
        "* Incorrect units"
      ]
    },
    {
      "cell_type": "markdown",
      "metadata": {
        "id": "Q-d4ie9WLobF"
      },
      "source": [
        "## Working with Columns\n",
        "\n",
        "You can think of the data frame from two perspectives: columns and rows. Columns are much easier to work with because they are arrays, meaning all the elements in a column are the same datatype (or they should be)."
      ]
    },
    {
      "cell_type": "markdown",
      "metadata": {
        "id": "4YSIUw63LobF"
      },
      "source": [
        "#### `.columns` - View column names\n",
        "\n",
        "This attribute returns a list of all the column names in your dataframe."
      ]
    },
    {
      "cell_type": "code",
      "execution_count": null,
      "metadata": {
        "id": "BVxbAVVbLobG"
      },
      "outputs": [],
      "source": [
        "# YOUR CODE HERE"
      ]
    },
    {
      "cell_type": "markdown",
      "metadata": {
        "id": "-php-BrfLobH"
      },
      "source": [
        "Sometimes the original column names are confusing. You can change them by setting a list of new column names to `data.columns`"
      ]
    },
    {
      "cell_type": "code",
      "execution_count": null,
      "metadata": {
        "id": "vIpcum8iLobI"
      },
      "outputs": [],
      "source": [
        "# YOUR CODE HERE\n",
        "global_temps.head()"
      ]
    },
    {
      "cell_type": "markdown",
      "metadata": {
        "id": "dPFJeEJzLobJ"
      },
      "source": [
        "### Selecting Columns\n",
        "\n",
        "The most common way to get data from a DataFrame is by selecting one or more columns. Remember, each column is an array, meaning all the elements in a column are the same datatype (or they should be)."
      ]
    },
    {
      "cell_type": "markdown",
      "metadata": {
        "id": "yzkZV-98LobK"
      },
      "source": [
        "#### Selecting a Single Column\n",
        "To select a single column, use square bracket notation with the column name as a string:"
      ]
    },
    {
      "cell_type": "code",
      "execution_count": null,
      "metadata": {
        "id": "hJ2Wb5kbLobL"
      },
      "outputs": [],
      "source": [
        "# Select the city column\n",
        "# YOUR CODE HERE"
      ]
    },
    {
      "cell_type": "markdown",
      "metadata": {
        "id": "1q2bIQciLobM"
      },
      "source": [
        "#### Selecting Multiple Columns\n",
        "\n",
        "To select multiple columns, you need to pass a **list** of column names inside the square brackets. This will return a new dataframe."
      ]
    },
    {
      "cell_type": "code",
      "execution_count": null,
      "metadata": {
        "id": "H2hFVKyeLobN"
      },
      "outputs": [],
      "source": [
        "# YOUR CODE HERE\n",
        "\n",
        "selected_columns.head()"
      ]
    },
    {
      "cell_type": "markdown",
      "metadata": {
        "id": "_MuV4KYzLobO"
      },
      "source": [
        "## Conditional Filtering (Boolean Indexing)\n",
        "\n",
        "This is one of the most powerful features of Pandas: selecting rows based on whether they meet a certain condition. You pass a Series of `True`/`False` values (a \"Boolean Series\") inside the square brackets. Only rows where the value is `True` will be returned. The easiest way to undrstand this is by breaking it down, step by step:"
      ]
    },
    {
      "cell_type": "markdown",
      "metadata": {
        "id": "sh0I48KcLobP"
      },
      "source": [
        "**Step 1: Create a condition**\n",
        "\n",
        "Let's ask a question: \"Which cities have experienced very hot average temperature for a specific month?\" Let's say 35&deg;C (95&deg;F) is \"very hot\"."
      ]
    },
    {
      "cell_type": "code",
      "execution_count": null,
      "metadata": {
        "id": "RTfimOACLobQ"
      },
      "outputs": [],
      "source": [
        "# YOUR CODE HERE"
      ]
    },
    {
      "cell_type": "markdown",
      "metadata": {
        "id": "1ra25OAcLobR"
      },
      "source": [
        "**Step 2: Generate the Boolean Series**\n",
        "\n",
        "If you `print(hot_cities)`, you wouldn't see the cities. You would see the Boolean Series—the `True`/`False` answer for every single city:"
      ]
    },
    {
      "cell_type": "code",
      "execution_count": null,
      "metadata": {
        "id": "IvAIErZoLobi"
      },
      "outputs": [],
      "source": [
        "print(hot_cities)"
      ]
    },
    {
      "cell_type": "markdown",
      "metadata": {
        "id": "T-5b-3tpLobj"
      },
      "source": [
        "**Step 3: Use the Boolean Series to filter the dataframe**\n",
        "Now, you use that condition (the Boolean Series) as a filter inside the square brackets of your original dataframe.\n",
        "\n",
        "Pandas will look at your `global_temps` dataframe, and for every row, it will check the corresponding value in your condition series. It will only keep the rows where the value is True."
      ]
    },
    {
      "cell_type": "code",
      "execution_count": null,
      "metadata": {
        "id": "LOrz4jbRLobk"
      },
      "outputs": [],
      "source": [
        "# YOUR CODE HERE\n",
        "high_temps.head()"
      ]
    },
    {
      "cell_type": "markdown",
      "metadata": {
        "id": "A_0ONa1SLobl"
      },
      "source": [
        "### Combining Conditions\n",
        "\n",
        "You can combine multiple conditions using logical operators:\n",
        "\n",
        "- & for AND (both conditions must be true)\n",
        "- | for OR (at least one condition must be true)\n",
        "\n",
        "Remember to put each condition in parentheses!\n",
        "\n",
        "`(first_condition) & (second_condition)`"
      ]
    },
    {
      "cell_type": "code",
      "execution_count": null,
      "metadata": {
        "id": "fM6lJa7yLobm"
      },
      "outputs": [],
      "source": [
        "# YOUR CODE HERE\n",
        "hot_india = global_temps[condition]\n",
        "hot_india.head()"
      ]
    },
    {
      "cell_type": "markdown",
      "metadata": {
        "id": "3wE7UXctLobn"
      },
      "source": [
        "### What about rows?\n",
        "\n",
        "Rows are a little trickier to reference because they are not arrays. In columns, we can reference the name of the columns that we are interested in. Also, the elements in a column are the same data type. Since rows contain the elements of several different arrays, they can contain multiple data types and require a different way of thinking. We can filter rows two ways: by index or by label.\n",
        "\n",
        "For the `iloc` method, you can pass a number `[5]`, range of numbers `[5:9]`, list `[23, 45, 87]`. These values correspond to the bold index values in the first column."
      ]
    },
    {
      "cell_type": "markdown",
      "metadata": {
        "id": "SSPNhvkWLobp"
      },
      "source": [
        "`iloc`"
      ]
    },
    {
      "cell_type": "code",
      "execution_count": null,
      "metadata": {
        "id": "Tvm-doLDLobr"
      },
      "outputs": [],
      "source": [
        "# pass a value\n",
        "hot_india.iloc[5]"
      ]
    },
    {
      "cell_type": "code",
      "execution_count": null,
      "metadata": {
        "id": "OxZO04aHLobu"
      },
      "outputs": [],
      "source": [
        "# pass a range\n",
        "hot_india.iloc[3:6]"
      ]
    },
    {
      "cell_type": "code",
      "execution_count": null,
      "metadata": {
        "id": "ucyr7h-nLobw"
      },
      "outputs": [],
      "source": [
        "# pass a list\n",
        "hot_india.iloc[[1, 3, 5]]"
      ]
    },
    {
      "cell_type": "markdown",
      "metadata": {
        "id": "3UdKvD_YLobx"
      },
      "source": [
        "`loc`"
      ]
    },
    {
      "cell_type": "markdown",
      "metadata": {
        "id": "i_Wxf3KlLoby"
      },
      "source": [
        "The `loc` method allows you to search for labels within the columns. You can use values, booleans, and conditionals."
      ]
    },
    {
      "cell_type": "code",
      "execution_count": null,
      "metadata": {
        "id": "yeCIN6bwLobz"
      },
      "outputs": [],
      "source": [
        "# pass a conditional\n",
        "# YOUR CODE HERE"
      ]
    },
    {
      "cell_type": "code",
      "execution_count": null,
      "metadata": {
        "id": "HTg35ptoLobz"
      },
      "outputs": [],
      "source": [
        "# pass multiple conditionals\n",
        "# YOUR CODE HERE"
      ]
    },
    {
      "cell_type": "markdown",
      "metadata": {
        "id": "KBv8Lp_cLob1"
      },
      "source": [
        "### Working with Values\n",
        "\n",
        "The temperatures for all the cities are in Celsius. Let's convert them to Fahrenheit so they are easier to understand.\n",
        "\n",
        "$$ T(F) = \\frac{9}{5}T(C)+32 $$"
      ]
    },
    {
      "cell_type": "markdown",
      "metadata": {
        "id": "rr07M8_bLob2"
      },
      "source": [
        "**Define a function for converting Celsius to Fahrenheit.**"
      ]
    },
    {
      "cell_type": "code",
      "execution_count": null,
      "metadata": {
        "id": "r22OJEI6Lob2"
      },
      "outputs": [],
      "source": [
        "# YOUR CODE HERE"
      ]
    },
    {
      "cell_type": "markdown",
      "metadata": {
        "id": "fCBM0p_rLob3"
      },
      "source": [
        "**\"Apply\" the function to the data.**"
      ]
    },
    {
      "cell_type": "code",
      "execution_count": null,
      "metadata": {
        "scrolled": true,
        "id": "zI8mzmF3Lob4"
      },
      "outputs": [],
      "source": [
        "global_temps['ave_temp_F'] = global_temps['ave_temp'].apply(C_to_F)\n",
        "global_temps.head()"
      ]
    },
    {
      "cell_type": "markdown",
      "metadata": {
        "id": "WFjnskw7Lob5"
      },
      "source": [
        "# Data Analysis\n",
        "\n",
        "In the realm of scientific computing, the ability to effectively analyze (pick apart) and interpret data is paramount. Whether you're working with experimental results, observational data, or simulations, understanding how to systematically process and summarize your data is crucial for drawing valid conclusions and advancing scientific knowledge."
      ]
    },
    {
      "cell_type": "markdown",
      "metadata": {
        "id": "k_8o6g0uLob6"
      },
      "source": [
        "## Grouping with `groupby()`\n",
        "\n",
        "The `groupby()` method is one of the most powerful and frequently used functions in Pandas for data analysis. It allows you to split your data into groups based on some criteria, apply a function to each group independently, and then combine the results into a single dataframe or series. This process is often referred to as \"split-apply-combine.\""
      ]
    },
    {
      "cell_type": "markdown",
      "metadata": {
        "id": "YVgHKEccLob7"
      },
      "source": [
        "### How it Works (The \"Split-Apply-Combine\" Strategy):\n",
        "\n",
        "1. **Split**: Pandas divides the dataframe into multiple sub-dataframes, where each sub-dataframe contains rows that share the same value for the specified grouping key(s).\n",
        "\n",
        "2. **Apply**: An aggregation function (like `mean()`, `sum()`, `count()`, `max()`, `min()`, `median()`, `std()`, `var()`, or even custom functions) is applied to each individual group.\n",
        "\n",
        "3. **Combine**: The results of the applied function from all the individual groups are then combined back into a single series or dataframe, with the grouping keys becoming the new index.\n",
        "\n",
        "All of this can be done with a single line of code:\n",
        "\n",
        "`df.groupby('split_group')[data_to_be_applied].function_applied_to_data`"
      ]
    },
    {
      "cell_type": "markdown",
      "metadata": {
        "id": "BEPNopDELob8"
      },
      "source": [
        "For example, we can group the cities by country and then calculate the average temperature for each country:"
      ]
    },
    {
      "cell_type": "code",
      "execution_count": null,
      "metadata": {
        "id": "kgPimLL2Lob-"
      },
      "outputs": [],
      "source": [
        "# YOUR CODE HERE\n",
        "country_data.head()"
      ]
    }
  ],
  "metadata": {
    "kernelspec": {
      "display_name": "Python 3 (ipykernel)",
      "language": "python",
      "name": "python3"
    },
    "language_info": {
      "codemirror_mode": {
        "name": "ipython",
        "version": 3
      },
      "file_extension": ".py",
      "mimetype": "text/x-python",
      "name": "python",
      "nbconvert_exporter": "python",
      "pygments_lexer": "ipython3",
      "version": "3.9.12"
    },
    "colab": {
      "provenance": []
    }
  },
  "nbformat": 4,
  "nbformat_minor": 0
}